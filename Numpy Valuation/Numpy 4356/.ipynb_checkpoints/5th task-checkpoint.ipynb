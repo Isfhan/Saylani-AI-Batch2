{
 "cells": [
  {
   "cell_type": "code",
   "execution_count": 2,
   "metadata": {},
   "outputs": [],
   "source": [
    "import numpy as np\n",
    "from PIL import Image\n",
    "import math"
   ]
  },
  {
   "cell_type": "code",
   "execution_count": 4,
   "metadata": {},
   "outputs": [
    {
     "name": "stdout",
     "output_type": "stream",
     "text": [
      "Enter the angle :- 90\n"
     ]
    }
   ],
   "source": [
    "image = np.array(Image.open(\"Flower.jpg\"))             # Load the image\n",
    "angle=int(input(\"Enter the angle :- \"))                # Ask the user to enter the angle of rotation\n",
    "\n",
    "# Define the most occuring variables\n",
    "angle=math.radians(angle)                               #converting degrees to radians\n",
    "cosine=math.cos(angle)\n",
    "sine=math.sin(angle)\n",
    "height=image.shape[0]                                   #define the height of the image\n",
    "width=image.shape[1]                                    #define the width of the image\n",
    "\n",
    "# Define the height and width of the new image that is to be formed\n",
    "new_height  = round(abs(image.shape[0]*cosine)+abs(image.shape[1]*sine))+1\n",
    "new_width  = round(abs(image.shape[1]*cosine)+abs(image.shape[0]*sine))+1\n",
    "\n",
    "# define another image variable of dimensions of new_height and new _column filled with zeros\n",
    "output=np.zeros((new_height,new_width,image.shape[2]))\n",
    "\n",
    "# Find the centre of the image about which we have to rotate the image\n",
    "original_centre_height   = round(((image.shape[0]+1)/2)-1)    #with respect to the original image\n",
    "original_centre_width    = round(((image.shape[1]+1)/2)-1)    #with respect to the original image\n",
    "\n",
    "# Find the centre of the new image that will be obtained\n",
    "new_centre_height= round(((new_height+1)/2)-1)        #with respect to the new image\n",
    "new_centre_width= round(((new_width+1)/2)-1)          #with respect to the new image\n",
    "\n",
    "for i in range(height):\n",
    "    for j in range(width):\n",
    "        #co-ordinates of pixel with respect to the centre of original image\n",
    "        y=image.shape[0]-1-i-original_centre_height                   \n",
    "        x=image.shape[1]-1-j-original_centre_width                      \n",
    "\n",
    "        #co-ordinate of pixel with respect to the rotated image\n",
    "        new_y=round(-x*sine+y*cosine)\n",
    "        new_x=round(x*cosine+y*sine)\n",
    "\n",
    "        '''since image will be rotated the centre will change too, \n",
    "           so to adust to that we will need to change new_x and new_y with respect to the new centre'''\n",
    "        new_y=new_centre_height-new_y\n",
    "        new_x=new_centre_width-new_x\n",
    "\n",
    "        # adding if check to prevent any errors in the processing\n",
    "        if 0 <= new_x < new_width and 0 <= new_y < new_height and new_x>=0 and new_y>=0:\n",
    "            output[new_y,new_x,:]=image[i,j,:]                          #writing the pixels to the new destination in the output image\n",
    "\n",
    "pil_img=Image.fromarray((output).astype(np.uint8))                       # converting array to image\n",
    "pil_img.save(\"rotated_image.jpg\")  "
   ]
  },
  {
   "cell_type": "code",
   "execution_count": null,
   "metadata": {},
   "outputs": [],
   "source": []
  }
 ],
 "metadata": {
  "kernelspec": {
   "display_name": "Python 3",
   "language": "python",
   "name": "python3"
  },
  "language_info": {
   "codemirror_mode": {
    "name": "ipython",
    "version": 3
   },
   "file_extension": ".py",
   "mimetype": "text/x-python",
   "name": "python",
   "nbconvert_exporter": "python",
   "pygments_lexer": "ipython3",
   "version": "3.8.5"
  }
 },
 "nbformat": 4,
 "nbformat_minor": 4
}
